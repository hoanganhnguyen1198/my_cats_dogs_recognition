{
 "cells": [
  {
   "cell_type": "code",
   "execution_count": 1,
   "metadata": {},
   "outputs": [
    {
     "name": "stdout",
     "output_type": "stream",
     "text": [
      "Pillow Version: 9.4.0\n"
     ]
    }
   ],
   "source": [
    "# check Pillow version number\n",
    "import PIL\n",
    "print('Pillow Version:', PIL.__version__)"
   ]
  },
  {
   "cell_type": "code",
   "execution_count": 9,
   "metadata": {},
   "outputs": [
    {
     "name": "stdout",
     "output_type": "stream",
     "text": [
      "JPEG\n",
      "RGB\n",
      "(499, 375)\n"
     ]
    }
   ],
   "source": [
    "from PIL import Image\n",
    "\n",
    "image = Image.open('data/train/dog.10025.jpg')\n",
    "\n",
    "print(image.format)\n",
    "print(image.mode)\n",
    "print(image.size)\n",
    "\n",
    "image.show()"
   ]
  },
  {
   "cell_type": "code",
   "execution_count": 4,
   "metadata": {},
   "outputs": [
    {
     "name": "stdout",
     "output_type": "stream",
     "text": [
      "(269, 259, 3)\n",
      "None\n",
      "RGB\n",
      "(259, 269)\n"
     ]
    }
   ],
   "source": [
    "import numpy as np\n",
    "\n",
    "imdata = np.asarray(image)\n",
    "\n",
    "print(imdata.shape)\n",
    "\n",
    "image2 = Image.fromarray(imdata)\n",
    "\n",
    "print(image2.format)\n",
    "print(image2.mode)\n",
    "print(image2.size)"
   ]
  },
  {
   "cell_type": "code",
   "execution_count": 7,
   "metadata": {},
   "outputs": [],
   "source": [
    "from PIL import ImageOps\n",
    "\n",
    "def padding(image, expected_size):\n",
    "    delta_width = expected_size[0] - image.size[0]\n",
    "    delta_height = expected_size[1] - image.size[1]\n",
    "\n",
    "    pad_width = delta_width // 2\n",
    "    pad_height = delta_height // 2\n",
    "\n",
    "    padding = (pad_width, pad_height, delta_width - pad_width, delta_height - pad_height)\n",
    "    return ImageOps.expand(image, padding)\n",
    "\n",
    "def resize_with_padding(image, expected_size):\n",
    "    image.thumbnail((expected_size[0], expected_size[1]))\n",
    "\n",
    "    delta_width = expected_size[0] - image.size[0]\n",
    "    delta_height = expected_size[1] - image.size[1]\n",
    "\n",
    "    pad_width = delta_width // 2\n",
    "    pad_height = delta_height // 2\n",
    "\n",
    "    padding = (pad_width, pad_height, delta_width - pad_width, delta_height - pad_height)\n",
    "    return ImageOps.expand(image, padding)"
   ]
  },
  {
   "cell_type": "code",
   "execution_count": 14,
   "metadata": {},
   "outputs": [
    {
     "name": "stdout",
     "output_type": "stream",
     "text": [
      "> loaded 200 images\n",
      "> loaded 400 images\n",
      "> loaded 600 images\n",
      "> loaded 800 images\n",
      "> loaded 1000 images\n",
      "> loaded 1200 images\n",
      "> loaded 1400 images\n",
      "> loaded 1600 images\n",
      "> loaded 1800 images\n",
      "> loaded 2000 images\n",
      "Finished\n"
     ]
    }
   ],
   "source": [
    "from os import listdir\n",
    "import matplotlib.image\n",
    "# import matplotlib.image as img\n",
    "\n",
    "loaded_images = list()\n",
    "loaded_labels = list()\n",
    "count = 0\n",
    "for filename in listdir('data/train/'):\n",
    "    if filename.find('cat') != -1:\n",
    "        loaded_labels.append('cat')\n",
    "    else:\n",
    "        loaded_labels.append('dog')\n",
    "\n",
    "    img = Image.open('data/train/' + filename)\n",
    "    resized_img = resize_with_padding(img, (100, 100))\n",
    "\n",
    "    img_data = np.asarray(resized_img)\n",
    "    loaded_images.append(img_data)\n",
    "    count += 1\n",
    "    if count % 200 == 0:\n",
    "        print(\"> loaded %d images\" % (count))\n",
    "    # print('> loaded %s %s' % (filename, img_data.shape))\n",
    "print(\"Finished\")"
   ]
  },
  {
   "cell_type": "code",
   "execution_count": 15,
   "metadata": {},
   "outputs": [
    {
     "name": "stdout",
     "output_type": "stream",
     "text": [
      "cat\n"
     ]
    }
   ],
   "source": [
    "print(loaded_labels[100])\n",
    "test_img = Image.fromarray(loaded_images[100])\n",
    "test_img.show()"
   ]
  },
  {
   "attachments": {},
   "cell_type": "markdown",
   "metadata": {},
   "source": [
    "## Data Manipulation"
   ]
  },
  {
   "cell_type": "code",
   "execution_count": 19,
   "metadata": {},
   "outputs": [
    {
     "name": "stdout",
     "output_type": "stream",
     "text": [
      "<class 'list'>\n"
     ]
    }
   ],
   "source": [
    "data_set = [list(a) for a in zip(loaded_images, loaded_labels)]\n",
    "print(type(data_set))"
   ]
  },
  {
   "cell_type": "code",
   "execution_count": 22,
   "metadata": {},
   "outputs": [
    {
     "name": "stdout",
     "output_type": "stream",
     "text": [
      "(100, 100, 3)\n",
      "cat\n"
     ]
    }
   ],
   "source": [
    "# print(data_set[0])\n",
    "print(data_set[0][0].shape)\n",
    "print(data_set[0][1])"
   ]
  },
  {
   "attachments": {},
   "cell_type": "markdown",
   "metadata": {},
   "source": [
    "## Define a CNN"
   ]
  },
  {
   "cell_type": "code",
   "execution_count": 16,
   "metadata": {},
   "outputs": [
    {
     "name": "stderr",
     "output_type": "stream",
     "text": [
      "/home/hanhf/anaconda3/lib/python3.10/site-packages/torchvision/io/image.py:13: UserWarning: Failed to load image Python extension: /home/hanhf/anaconda3/lib/python3.10/site-packages/torchvision/image.so: undefined symbol: _ZN2at4_ops19empty_memory_format4callEN3c108ArrayRefIlEENS2_8optionalINS2_10ScalarTypeEEENS5_INS2_6LayoutEEENS5_INS2_6DeviceEEENS5_IbEENS5_INS2_12MemoryFormatEEE\n",
      "  warn(f\"Failed to load image Python extension: {e}\")\n"
     ]
    }
   ],
   "source": [
    "import torch\n",
    "import torchvision\n",
    "import torch.nn as nn\n",
    "import torch.functional as F"
   ]
  },
  {
   "cell_type": "code",
   "execution_count": null,
   "metadata": {},
   "outputs": [],
   "source": [
    "class cnn(nn.Module):\n",
    "    def __init__(self):\n",
    "        super().__init__()\n",
    "        self.layers = nn.Sequential(\n",
    "            # [100, 100, 3]\n",
    "            nn.Conv2d(\n",
    "                in_channels=3,\n",
    "                out_channels=6,\n",
    "                kernel_size=5\n",
    "            ),\n",
    "            # [96, 96, 6]\n",
    "            nn.MaxPool2d(\n",
    "                kernel_size=4,\n",
    "                stride=4\n",
    "            ),\n",
    "            # [24, 24, 6]\n",
    "            nn.Conv2d(\n",
    "                in_channels=6,\n",
    "                out_channels=12,\n",
    "                kernel_size=5\n",
    "            ),\n",
    "            # [20, 20, 12]\n",
    "            nn.MaxPool2d(\n",
    "                kernel_size=4,\n",
    "                stride=4\n",
    "            ),\n",
    "            # [5, 5, 12]\n",
    "            nn.Flatten(),\n",
    "            # [5*5*12, 1]\n",
    "            nn.Linear(\n",
    "                in_features=5*5*12, \n",
    "                out_features=120\n",
    "            ),\n",
    "            # [1, 120]\n",
    "            nn.ReLU(),\n",
    "            nn.Linear(\n",
    "                in_features=120, \n",
    "                out_features=30\n",
    "            ),\n",
    "            # [1, 30]\n",
    "            nn.ReLU(),\n",
    "            nn.Linear(\n",
    "                in_features=30, \n",
    "                out_features=2\n",
    "            )\n",
    "            # [1, 2]\n",
    "        )\n",
    "        \n",
    "    def forward(self, x):\n",
    "        x = self.layers(x)\n",
    "        return x"
   ]
  }
 ],
 "metadata": {
  "kernelspec": {
   "display_name": "base",
   "language": "python",
   "name": "python3"
  },
  "language_info": {
   "codemirror_mode": {
    "name": "ipython",
    "version": 3
   },
   "file_extension": ".py",
   "mimetype": "text/x-python",
   "name": "python",
   "nbconvert_exporter": "python",
   "pygments_lexer": "ipython3",
   "version": "3.10.9"
  },
  "orig_nbformat": 4
 },
 "nbformat": 4,
 "nbformat_minor": 2
}
